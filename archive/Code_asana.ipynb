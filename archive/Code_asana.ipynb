{
 "cells": [
  {
   "cell_type": "code",
   "execution_count": null,
   "id": "f4fba410",
   "metadata": {},
   "outputs": [],
   "source": [
    "import asana  \n",
    "from langchain.schema import Document\n",
    "from langchain.text_splitter import RecursiveCharacterTextSplitter\n",
    "from asana import ApiClient, TasksApi\n"
   ]
  },
  {
   "cell_type": "markdown",
   "id": "b4f66eda",
   "metadata": {},
   "source": [
    "# Take info from Asana"
   ]
  },
  {
   "cell_type": "code",
   "execution_count": 104,
   "id": "0ff4b4bb",
   "metadata": {},
   "outputs": [
    {
     "name": "stdout",
     "output_type": "stream",
     "text": [
      "['AccessRequestsApi', 'AllocationsApi', 'ApiClient', 'AttachmentsApi', 'AuditLogAPIApi', 'BatchAPIApi', 'Configuration', 'CustomFieldSettingsApi', 'CustomFieldsApi', 'CustomTypesApi', 'EventsApi', 'ExportsApi', 'GoalRelationshipsApi', 'GoalsApi', 'JobsApi', 'MembershipsApi', 'OrganizationExportsApi', 'PortfolioMembershipsApi', 'PortfoliosApi', 'ProjectBriefsApi', 'ProjectMembershipsApi', 'ProjectStatusesApi', 'ProjectTemplatesApi', 'ProjectsApi', 'ReactionsApi', 'RulesApi', 'SectionsApi', 'StatusUpdatesApi', 'StoriesApi', 'TagsApi', 'TaskTemplatesApi', 'TasksApi', 'TeamMembershipsApi', 'TeamsApi', 'TimePeriodsApi', 'TimeTrackingEntriesApi', 'TypeaheadApi', 'UserTaskListsApi', 'UsersApi', 'WebhooksApi', 'WorkspaceMembershipsApi', 'WorkspacesApi', '__builtins__', '__cached__', '__doc__', '__file__', '__loader__', '__name__', '__package__', '__path__', '__spec__', 'absolute_import', 'api', 'api_client', 'configuration', 'pagination', 'rest']\n"
     ]
    }
   ],
   "source": [
    "import asana\n",
    "print(dir(asana)) # only for see and check"
   ]
  },
  {
   "cell_type": "code",
   "execution_count": 105,
   "id": "60cdfdef",
   "metadata": {},
   "outputs": [],
   "source": [
    "ASANA_TOKEN = \"DONT SHARE_YOUR TOKEN!! \"\n",
    "PROJECT_GID = \"1211535446206848\"\n",
    "\n",
    "\n",
    "def fetch_asana_tasks():\n",
    "    client = ApiClient()\n",
    "    client.configuration.access_token = ASANA_TOKEN\n",
    "    tasks_api = TasksApi(client)\n",
    "\n",
    "    opts = {\n",
    "        \"opt_fields\": \"gid,name,assignee,status,notes,created_at,due_on\"\n",
    "    }\n",
    "\n",
    "    tasks_generator = tasks_api.get_tasks_for_project(project_gid=PROJECT_GID, opts=opts)\n",
    "\n",
    "    tasks = []\n",
    "    for task in tasks_generator:  \n",
    "        tasks.append({\n",
    "            \"id\": task.get(\"gid\"),\n",
    "            \"name\": task.get(\"name\"),\n",
    "            \"assignee\": task.get(\"assignee\", {}).get(\"name\") if task.get(\"assignee\") else None,\n",
    "            \"status\": task.get(\"status\"),\n",
    "            \"notes\": task.get(\"notes\"),\n",
    "            \"created_at\": task.get(\"created_at\"),\n",
    "            \"due_on\": task.get(\"due_on\")\n",
    "        })\n",
    "    return tasks\n"
   ]
  },
  {
   "cell_type": "markdown",
   "id": "1aa662b2",
   "metadata": {},
   "source": [
    "# convert documents"
   ]
  },
  {
   "cell_type": "code",
   "execution_count": 106,
   "id": "ab51895f",
   "metadata": {},
   "outputs": [
    {
     "name": "stdout",
     "output_type": "stream",
     "text": [
      "Fetched 4 tasks\n"
     ]
    }
   ],
   "source": [
    "tasks = fetch_asana_tasks()\n",
    "print(f\"Fetched {len(tasks)} tasks\")\n",
    "\n",
    "documents = [\n",
    "    Document(\n",
    "        page_content=(t[\"name\"] + \"\\n\" + (t[\"notes\"] or \"\")),\n",
    "        metadata=t\n",
    "    )\n",
    "    for t in tasks\n",
    "]"
   ]
  },
  {
   "cell_type": "code",
   "execution_count": 107,
   "id": "f7888a09",
   "metadata": {},
   "outputs": [
    {
     "name": "stdout",
     "output_type": "stream",
     "text": [
      "Created 4 text chunks\n"
     ]
    }
   ],
   "source": [
    "splitter = RecursiveCharacterTextSplitter(chunk_size=512, chunk_overlap=50)\n",
    "chunked_docs = splitter.split_documents(documents)\n",
    "\n",
    "print(f\"Created {len(chunked_docs)} text chunks\")"
   ]
  }
 ],
 "metadata": {
  "kernelspec": {
   "display_name": "ven",
   "language": "python",
   "name": "python3"
  },
  "language_info": {
   "codemirror_mode": {
    "name": "ipython",
    "version": 3
   },
   "file_extension": ".py",
   "mimetype": "text/x-python",
   "name": "python",
   "nbconvert_exporter": "python",
   "pygments_lexer": "ipython3",
   "version": "3.11.1"
  }
 },
 "nbformat": 4,
 "nbformat_minor": 5
}
