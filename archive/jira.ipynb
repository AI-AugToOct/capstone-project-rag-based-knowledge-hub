{
 "cells": [
  {
   "cell_type": "code",
   "execution_count": 19,
   "id": "4f9b3c7e",
   "metadata": {},
   "outputs": [],
   "source": [
    "import requests\n",
    "from requests.auth import HTTPBasicAuth  \n",
    "from tabulate import tabulate  \n"
   ]
  },
  {
   "cell_type": "code",
   "execution_count": null,
   "id": "45045b46",
   "metadata": {},
   "outputs": [],
   "source": [
    "email = \"YOUR_EMAIL@example.com\"\n",
    "api_token = \"ATATT3x......\"\n",
    "domain = \"Your_domain\"\n",
    "project_key = \"KAN\"\n",
    "\n",
    "url = f\"https://{domain}.atlassian.net/rest/api/3/search/jql\"\n",
    "\n",
    "query = {\n",
    "    'jql': f'project = {project_key}',\n",
    "    'maxResults': 10,\n",
    "    'fields': 'summary,status,priority,description,duedate,fixVersions'\n",
    "}\n",
    "\n",
    "\n",
    "headers = {\"Accept\": \"application/json\"}\n",
    "auth = HTTPBasicAuth(email, api_token)\n"
   ]
  },
  {
   "cell_type": "code",
   "execution_count": 21,
   "id": "3095036a",
   "metadata": {},
   "outputs": [],
   "source": [
    "\n",
    "def extract_description(desc_json):\n",
    "    if not desc_json or \"content\" not in desc_json:\n",
    "        return \"-\"\n",
    "    text_parts = []\n",
    "    for block in desc_json[\"content\"]:\n",
    "        if \"content\" in block:\n",
    "            for sub in block[\"content\"]:\n",
    "                if sub.get(\"text\"):\n",
    "                    text_parts.append(sub[\"text\"])\n",
    "    return \" \".join(text_parts)\n",
    "\n",
    "response = requests.get(url, headers=headers, params=query, auth=auth)"
   ]
  },
  {
   "cell_type": "code",
   "execution_count": 24,
   "id": "6c4ad660",
   "metadata": {},
   "outputs": [
    {
     "name": "stdout",
     "output_type": "stream",
     "text": [
      "Task                                    Status       Priority    Due         Description\n",
      "--------------------------------------  -----------  ----------  ----------  ---------------------------------------------------------------------------------------------------------------------------------------------------------------------------------\n",
      "AI-driven Cybersecurity Solutions       In Review    Low                     A machine learning system that detects suspicious activities in networks and prevents cyberattacks in real time.\n",
      "Interactive Employee Training Platform  In Progress  Medium                  A gamified platform that makes employee training more engaging and effective.\n",
      "Fraud Detection System                  Done         Highest     2025-09-08  Develop an AI system that detects suspicious financial transactions and alerts administrators.\n",
      "Customer Sentiment Analyzer             To Do        High        2025-11-05  Develop an AI tool that analyzes customer feedback and classifies it as positive or negative.\n",
      "Deployment                              Done         Medium      2025-10-01  “Prepare and configure the production environment, including servers, databases, and security settings. Ensure the system is stable and ready for release without downtime.”\n",
      "UI/UX                                   In Review    High                    Enhancing the platform’s UI/UX to deliver a cleaner, more intuitive, and user-friendly experience.\n",
      "Subtask 2.1                             To Do        Medium                  -\n",
      "Dashboard                               To Do        -           2025-10-07  Dashboard: “Design and build an interactive dashboard that visualizes project metrics. Provide charts, KPIs, and filtering options to help stakeholders track performance easily.\n",
      "KPIs                                    In Progress  -           2025-10-12  Define the most important key performance indicators for the project. Set measurement criteria, link them to business goals, and ensure regular tracking and reporting.\n"
     ]
    }
   ],
   "source": [
    "\n",
    "def extract_description(desc_json):\n",
    "    if not desc_json or \"content\" not in desc_json:\n",
    "        return \"-\"\n",
    "    text_parts = []\n",
    "    for block in desc_json[\"content\"]:\n",
    "        if \"content\" in block:\n",
    "            for sub in block[\"content\"]:\n",
    "                if sub.get(\"text\"):\n",
    "                    text_parts.append(sub[\"text\"])\n",
    "    return \" \".join(text_parts)\n",
    "\n",
    "response = requests.get(url, headers=headers, params=query, auth=auth)\n",
    "\n",
    "if response.status_code == 200:\n",
    "    data = response.json()\n",
    "    table = []\n",
    "    for issue in data.get(\"issues\", []): \n",
    "        f = issue[\"fields\"]\n",
    "\n",
    "        task = f.get(\"summary\", \"-\")\n",
    "        status = (f.get(\"status\") or {}).get(\"name\", \"-\")  \n",
    "        priority = (f.get(\"priority\") or {}).get(\"name\", \"-\")\n",
    "        due = f.get(\"duedate\", \"-\")\n",
    "        versions = f.get(\"fixVersions\") or []\n",
    "        milestone = versions[0][\"name\"] if versions else \"-\"\n",
    "        desc = extract_description(f.get(\"description\"))\n",
    "\n",
    "        table.append([task, status, priority, due, desc])\n",
    "\n",
    "    print(tabulate(table, headers=[\"Task\", \"Status\", \"Priority\", \"Due\",\"Description\"]))\n",
    "else:\n",
    "    print(\"Error:\", response.status_code, response.text)"
   ]
  }
 ],
 "metadata": {
  "kernelspec": {
   "display_name": "Python 3",
   "language": "python",
   "name": "python3"
  },
  "language_info": {
   "codemirror_mode": {
    "name": "ipython",
    "version": 3
   },
   "file_extension": ".py",
   "mimetype": "text/x-python",
   "name": "python",
   "nbconvert_exporter": "python",
   "pygments_lexer": "ipython3",
   "version": "3.13.2"
  }
 },
 "nbformat": 4,
 "nbformat_minor": 5
}
